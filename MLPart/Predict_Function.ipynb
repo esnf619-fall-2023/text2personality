{
  "nbformat": 4,
  "nbformat_minor": 0,
  "metadata": {
    "colab": {
      "provenance": []
    },
    "kernelspec": {
      "name": "python3",
      "display_name": "Python 3"
    },
    "language_info": {
      "name": "python"
    }
  },
  "cells": [
    {
      "cell_type": "markdown",
      "source": [
        "In this code, function \"predict_personality(text)\" take a text as an input and then return the personality type. The variable \"model_address\" shows the addresses of saved model. You can change the address based on the path you put the model."
      ],
      "metadata": {
        "id": "AOcI9tH2etZt"
      }
    },
    {
      "cell_type": "code",
      "source": [
        "#Connecting the notebook to google drive for reading dataset\n",
        "from google.colab import drive\n",
        "drive.mount('/content/drive')"
      ],
      "metadata": {
        "colab": {
          "base_uri": "https://localhost:8080/"
        },
        "id": "THq9gBlpAE0L",
        "outputId": "770046bd-e863-4bbc-9015-bb783ffc30c8"
      },
      "execution_count": 29,
      "outputs": [
        {
          "output_type": "stream",
          "name": "stdout",
          "text": [
            "Drive already mounted at /content/drive; to attempt to forcibly remount, call drive.mount(\"/content/drive\", force_remount=True).\n"
          ]
        }
      ]
    },
    {
      "cell_type": "code",
      "source": [
        "# Importing required libraries for this assignment\n",
        "import pandas as pd\n",
        "import numpy as np\n",
        "import string, re\n",
        "import nltk\n",
        "import sklearn\n",
        "import nltk\n",
        "import pickle\n",
        "from nltk.corpus import stopwords\n",
        "from nltk.tokenize import word_tokenize\n",
        "from nltk.stem import WordNetLemmatizer\n",
        "from nltk.sentiment.vader import SentimentIntensityAnalyzer\n",
        "from catboost import CatBoostClassifier # For building catboost model\n",
        "from xgboost import XGBClassifier\n",
        "from sklearn.feature_extraction.text import TfidfVectorizer # For vectorizing text data\n",
        "from sklearn.metrics import accuracy_score\n",
        "import pickle\n",
        "\n",
        "model_address = '/content/drive/MyDrive/ENSF 619 - Group Project/Project/Phase 1/modelCatBoost600.pkl'"
      ],
      "metadata": {
        "id": "MRSNrL0F9R5C"
      },
      "execution_count": 30,
      "outputs": []
    },
    {
      "cell_type": "code",
      "source": [
        "#Downloading Require Packages\n",
        "nltk.download('vader_lexicon')\n",
        "nltk.download('punkt')\n",
        "nltk.download('stopwords')\n",
        "nltk.download('wordnet')\n",
        "!pip3 install catboost"
      ],
      "metadata": {
        "colab": {
          "base_uri": "https://localhost:8080/"
        },
        "id": "wE9_rruH-hD8",
        "outputId": "befe5b09-0210-4bdf-d986-3a9f9ddb7dc0"
      },
      "execution_count": 4,
      "outputs": [
        {
          "output_type": "stream",
          "name": "stderr",
          "text": [
            "[nltk_data] Downloading package vader_lexicon to /root/nltk_data...\n",
            "[nltk_data]   Package vader_lexicon is already up-to-date!\n",
            "[nltk_data] Downloading package punkt to /root/nltk_data...\n",
            "[nltk_data]   Package punkt is already up-to-date!\n",
            "[nltk_data] Downloading package stopwords to /root/nltk_data...\n",
            "[nltk_data]   Package stopwords is already up-to-date!\n",
            "[nltk_data] Downloading package wordnet to /root/nltk_data...\n",
            "[nltk_data]   Package wordnet is already up-to-date!\n"
          ]
        },
        {
          "output_type": "stream",
          "name": "stdout",
          "text": [
            "Collecting catboost\n",
            "  Downloading catboost-1.2.2-cp310-cp310-manylinux2014_x86_64.whl (98.7 MB)\n",
            "\u001b[2K     \u001b[90m━━━━━━━━━━━━━━━━━━━━━━━━━━━━━━━━━━━━━━━━\u001b[0m \u001b[32m98.7/98.7 MB\u001b[0m \u001b[31m9.7 MB/s\u001b[0m eta \u001b[36m0:00:00\u001b[0m\n",
            "\u001b[?25hRequirement already satisfied: graphviz in /usr/local/lib/python3.10/dist-packages (from catboost) (0.20.1)\n",
            "Requirement already satisfied: matplotlib in /usr/local/lib/python3.10/dist-packages (from catboost) (3.7.1)\n",
            "Requirement already satisfied: numpy>=1.16.0 in /usr/local/lib/python3.10/dist-packages (from catboost) (1.23.5)\n",
            "Requirement already satisfied: pandas>=0.24 in /usr/local/lib/python3.10/dist-packages (from catboost) (1.5.3)\n",
            "Requirement already satisfied: scipy in /usr/local/lib/python3.10/dist-packages (from catboost) (1.11.3)\n",
            "Requirement already satisfied: plotly in /usr/local/lib/python3.10/dist-packages (from catboost) (5.15.0)\n",
            "Requirement already satisfied: six in /usr/local/lib/python3.10/dist-packages (from catboost) (1.16.0)\n",
            "Requirement already satisfied: python-dateutil>=2.8.1 in /usr/local/lib/python3.10/dist-packages (from pandas>=0.24->catboost) (2.8.2)\n",
            "Requirement already satisfied: pytz>=2020.1 in /usr/local/lib/python3.10/dist-packages (from pandas>=0.24->catboost) (2023.3.post1)\n",
            "Requirement already satisfied: contourpy>=1.0.1 in /usr/local/lib/python3.10/dist-packages (from matplotlib->catboost) (1.2.0)\n",
            "Requirement already satisfied: cycler>=0.10 in /usr/local/lib/python3.10/dist-packages (from matplotlib->catboost) (0.12.1)\n",
            "Requirement already satisfied: fonttools>=4.22.0 in /usr/local/lib/python3.10/dist-packages (from matplotlib->catboost) (4.44.0)\n",
            "Requirement already satisfied: kiwisolver>=1.0.1 in /usr/local/lib/python3.10/dist-packages (from matplotlib->catboost) (1.4.5)\n",
            "Requirement already satisfied: packaging>=20.0 in /usr/local/lib/python3.10/dist-packages (from matplotlib->catboost) (23.2)\n",
            "Requirement already satisfied: pillow>=6.2.0 in /usr/local/lib/python3.10/dist-packages (from matplotlib->catboost) (9.4.0)\n",
            "Requirement already satisfied: pyparsing>=2.3.1 in /usr/local/lib/python3.10/dist-packages (from matplotlib->catboost) (3.1.1)\n",
            "Requirement already satisfied: tenacity>=6.2.0 in /usr/local/lib/python3.10/dist-packages (from plotly->catboost) (8.2.3)\n",
            "Installing collected packages: catboost\n",
            "Successfully installed catboost-1.2.2\n"
          ]
        }
      ]
    },
    {
      "cell_type": "code",
      "source": [
        "def preprocess_dataframe(df):\n",
        "      df['Preprocessed_posts'] = df['posts'].str.lower()\n",
        "      df['Preprocessed_posts'] = df['Preprocessed_posts'].str.replace(r'https?://[^\\s<>\"]+|www\\.[^\\s<>\"]+', ' ', flags=re.MULTILINE, regex=True)\n",
        "      df['Preprocessed_posts'] = df['Preprocessed_posts'].str.replace(r'[^0-9a-z]', ' ', regex=True)\n",
        "      return df\n",
        "\n",
        "#Removing stopwords and applying lemmatizer\n",
        "def remove_stopwords_lemmatizer(post):\n",
        "    tokens = word_tokenize(post)\n",
        "    stopwords = nltk.corpus.stopwords.words('english')\n",
        "    filtered_tokens = [token for token in tokens if token not in stopwords]\n",
        "    lemmatizer = nltk.WordNetLemmatizer()\n",
        "    lemmatized_tokens = [lemmatizer.lemmatize(token) for token in filtered_tokens]\n",
        "    processed_text = ' '.join(lemmatized_tokens)\n",
        "    return processed_text\n",
        "\n",
        "def add_sentiment_column(post):\n",
        "    sentiment_analyzer = SentimentIntensityAnalyzer()\n",
        "    scores = sentiment_analyzer.polarity_scores(post)\n",
        "    if scores[\"compound\"] == 0:\n",
        "        sentiment = 2\n",
        "    elif scores[\"compound\"] > 0:\n",
        "        sentiment = 1\n",
        "    else:\n",
        "        sentiment = 0\n",
        "    return sentiment"
      ],
      "metadata": {
        "id": "pLGckkf29Xxv"
      },
      "execution_count": 31,
      "outputs": []
    },
    {
      "cell_type": "code",
      "execution_count": 32,
      "metadata": {
        "id": "JOvJHekH7Ozu"
      },
      "outputs": [],
      "source": [
        "def predict_personality(text):\n",
        "\n",
        "    #Preprocessing the text input(removing stopwords + sentiment)\n",
        "    data = [text]\n",
        "    df = pd.DataFrame(data, columns=['posts'])\n",
        "    df = preprocess_dataframe(df)\n",
        "    df['Preprocessed_posts'] = df['Preprocessed_posts'].apply(lambda x: remove_stopwords_lemmatizer(x))\n",
        "    df = df.drop(df[df['Preprocessed_posts'] == ''].index)\n",
        "\n",
        "    if df.empty:\n",
        "        return \"The text length was not enough for processing!\"\n",
        "\n",
        "    df['sentiment'] = df['Preprocessed_posts'].apply(lambda x: add_sentiment_column(x))\n",
        "\n",
        "    ##############################################################################################################################\n",
        "\n",
        "    #loading the model and vectorizer\n",
        "    pickled_model, loaded_vectorizer = pickle.load(open(model_address, 'rb'))\n",
        "\n",
        "    ##############################################################################################################################\n",
        "\n",
        "    #Vectorizing the text data\n",
        "    vectors_tfidf = loaded_vectorizer.transform(df['Preprocessed_posts'])\n",
        "\n",
        "    ##############################################################################################################################\n",
        "\n",
        "    #Combining vectorizers output with sentiment column\n",
        "    vectors_tfidf_array = vectors_tfidf.toarray()\n",
        "    input_text = np.column_stack((vectors_tfidf_array, df['sentiment'].to_numpy()))\n",
        "\n",
        "    ##############################################################################################################################\n",
        "\n",
        "    #Running the model and getting prediction\n",
        "    input_text_pred = pickled_model.predict(input_text)\n",
        "\n",
        "    label_predicted = input_text_pred[0][0]\n",
        "    labels = ['ENFJ', 'ENFP', 'ENTJ', 'ENTP', 'ESFJ', 'ESFP', 'ESTJ', 'ESTP', 'INFJ', 'INFP', 'INTJ', 'INTP', 'ISFJ', 'ISFP', 'ISTJ', 'ISTP']\n",
        "\n",
        "    return labels[label_predicted]\n"
      ]
    },
    {
      "cell_type": "code",
      "source": [
        "text = \"'Your comment screams INTJ, bro. Especially the useless part.|||Thanks for the information. Doesn't interfere with anything I've ever experienced (with INFJs). Plus, your signature is the lyrics from one of my favorite bands (Tool).  That song (Reflection) was...|||Aren't ESTPs the kings/queens of saying things without thinking/without wanting to think? No offense, you guys can be fucking magnificent|||Ooh, so dangerous. All these scary words and such.  No, it's not dangerous. I already knew I was unhealthy before I entered PerC. PerC can't make me more unhealthy.|||LOL! What the fuck is that in your signature? Some obscure inspirational quote gone wrong?|||Why would that be implied?|||There's too many. I watch a lot of tv shows, although i hardly ever watch them on tv.   -how i met your mother -scrubs -x files -futurama -the office (really getting into it recently, the...|||Who's to say that Sensors will give birth to sensors? Or intuitives to intuitives?   The only reason why we think MBTI is great is not because of its system. The test is awful and people are very...|||If you had the ability to time-travel to 1933 and kill Hitler, would you -John Smith, The Dead Zone by Stephen King  Why kill him, though, if you have the ability to turn him into a normal...|||Another interesting thing to mention is that mental issues/disorders can cause physical pain, and vice versa.  For instance, long term severe pain can lead to insanity, and depression is known to...|||If you think physical pain is worse, you haven't suffered much mental pain.  I personally do not think they're comparable. Of course physical pain is worse, it implies irreversible damage and...|||Of course Yoda would prefer Si.|||It's all homestuck threads, I'm guessing.  Oooh, Dirk x John or some shit|||His logic is pathetic and it fails to hold up so much of the time. INTP is definitely a possibility, but ENTP and maybe even ENFP are as well. Mostly because I see ENTPs failing logically much more...|||If I were to actually pay attention to how I walk, then I would end up walking normally. So answering this question would be paradoxical.|||I think INTPs and ISFJs have it the worst. And I'm pretty sure I've got undiagnosed Generalized Anxiety Disorder|||Ew... Buzzfeed...|||Don't really have many friends, but I can relate. With an ESTP, at first I acted very ESTP-like, but it was fun. Acting stupid, having fun, saying stupid shit to each other... But as the friendship...|||I would as well, except I would do it metaphorically.|||I read books all the time as a kid... Don't anymore. It doesn't matter if something is logical or not if it is boring as SHIT!|||Yeah, it's best because the first time you watch it you think it's just a demon bunny. And how he reacts to it, just amazing.|||Man I love that profile picture. When Donnie gets that sickeningly satisfied face, I feel the same way, so giddy. I'm a bit of a sadist and I love finding pleasure in dark things... That's how I...|||Usually logic and Ti has very little to do with answering Trivia questions, as it mostly has to do with memory. However, if I don't know the answer I can use my Ti to get an educated guess, which is...|||Wouldn't it be more economical to use a regular phone in that case?|||I support this. My phone has affected my life negatively more than I'd like to admit.|||I want to once again say that I do not agree with this 24 type nonsense. I definitely think you can organize a type into more specific types through answering questions (MBTI Style), but this just...|||My intuition usually allows me to remember such answers in games like that even if I do not consciously know anything about the subject being asked. It's things the subconscious has picked up on,...|||Lol @ ISTP, INFJ, and ESTP GIFs.   Nice profile picture, by the way. :laughing:|||It has to do with the amount of time we have to think and respond, lack of social stigmas, no body language, no external factors/variables.  But I agree, if you can do it online, you can do it in...|||Yes. They make me angry for some reason.  In my High School there's one that says Speak Your Mind, which I find ironic.|||Yeah, I'm probably quite less healthy than most INTPs, and that's saying something. I've tried to get better. But Aspergers, ADD, Anxiety, Alexithymia... (damn those A words!) They make it hard for...|||Avoided Death Note? Why? It's meant for Rationals!  Mirai Nikki isn't that popular, surprisingly. Maybe because it takes a while to pick up speed (not unlike Death Note) and our world of sensors...|||I suppose, but it's not the same. The likelihood of me finding an individual who I like on the internet is indeed much higher, but the amount of contact and relations I can have with someone here is...|||I got 26 out of 37.|||The only good thing about SOA is the opening theme. Holy shit the first few seconds are amazing though.  Edit: I think the only times I've been emotional over an anime is the end of Death Note and...|||He's pretty rad, but socially awkward and obsessed with logical correctness. Like more than me. Debating (literally) his E-ness. But idk, he creates arguments and plays Devil's Advocate which is an...|||I just watched a TableTop video on YouTube, and I had the good fortune of seeing Allison Scagliotti for the first time. I think I'm in love. Anyways, I'd say she's an ENTP because of, well,...|||more like *sniffle* you plastic funbag|||I saw that earlier. I'm not the biggest fan of Markiplier (spelling? lol), a lot of his commentary and such seems to be mostly facial expressions and noises. However, I'm sympathetic of his past. And...|||I'd say water over rock. Maybe electric or dragon type. Fairy if we're fortunate.|||I'm sure a lot of immature INTPs would like to believe they have diminished emotions, but emotions are a human thing*.   (not including anti-social personalities)|||Since your MBTI is based completely off how you answer the questions, I would say yes. And I think you misunderstand mental disorders. Most people who are afflicted are still capable of most things...|||I'm confused. All it asks for is my birth date and location and then it tells me my theme or whatever. I didn't even answer any questions.|||I wish I had an INTP friend :P I have not met a single rational at this school besides the ones I already know. Which is 2. (INTJ who is too cool for me right now, and ENTP)|||For INTPs it serves us quite well. Remembering important factoids and info/knowledge, but never hygenial things...  I feel like it most has to do with our subconscious/intuition, not exactly...|||You're right. There's almost always a solution, and suicide shouldn't be first on the list.|||I play it in spurts every now and again. I'd say I'm okay.  My greatest weakness is that I can't think too many steps ahead. I can think of the best logical move for the board as it is, maybe even...|||226530   http://media.giphy.com/media/Be9IVnTa8GOoU/giphy.gif   Topher Brink of Dollhouse|||Like I said, everybody's different. And not having a close friend does not equal being alone, although it can seem like it. You still have human contact, which is really all that's necessary.|||Did you make an account specifically with this in mind to ask? lol'\""
      ],
      "metadata": {
        "id": "ZycK2FYS9v-e"
      },
      "execution_count": 35,
      "outputs": []
    },
    {
      "cell_type": "code",
      "source": [
        "predict_personality(text)"
      ],
      "metadata": {
        "colab": {
          "base_uri": "https://localhost:8080/",
          "height": 35
        },
        "id": "7rr0NtZ2_flo",
        "outputId": "c8c0d897-edec-4a01-ac7d-c678ca83f133"
      },
      "execution_count": 36,
      "outputs": [
        {
          "output_type": "execute_result",
          "data": {
            "text/plain": [
              "'INTP'"
            ],
            "application/vnd.google.colaboratory.intrinsic+json": {
              "type": "string"
            }
          },
          "metadata": {},
          "execution_count": 36
        }
      ]
    }
  ]
}