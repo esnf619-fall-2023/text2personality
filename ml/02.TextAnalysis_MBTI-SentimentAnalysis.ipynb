{
 "cells": [
  {
   "cell_type": "markdown",
   "source": [
    "# Step 1: Load the processed data    "
   ],
   "metadata": {
    "collapsed": false
   },
   "id": "7df53399d72b245c"
  },
  {
   "cell_type": "code",
   "execution_count": 4,
   "outputs": [
    {
     "data": {
      "text/plain": "   type                                              posts  \\\n0  INFJ  'http://www.youtube.com/watch?v=qsXHcwe3krw|||...   \n1  ENTP  'I'm finding the lack of me in these posts ver...   \n2  INTP  'Good one  _____   https://www.youtube.com/wat...   \n3  INTJ  'Dear INTP,   I enjoyed our conversation the o...   \n4  ENTJ  'You're fired.|||That's another silly misconce...   \n\n                                         clean_posts  \n0  and intj moments sportscenter not top ten play...  \n1  Im finding the lack of me in these posts very ...  \n2  Good one course to which I say I know thats my...  \n3  Dear INTP I enjoyed our conversation the other...  \n4  Youre firedThats another silly misconception T...  ",
      "text/html": "<div>\n<style scoped>\n    .dataframe tbody tr th:only-of-type {\n        vertical-align: middle;\n    }\n\n    .dataframe tbody tr th {\n        vertical-align: top;\n    }\n\n    .dataframe thead th {\n        text-align: right;\n    }\n</style>\n<table border=\"1\" class=\"dataframe\">\n  <thead>\n    <tr style=\"text-align: right;\">\n      <th></th>\n      <th>type</th>\n      <th>posts</th>\n      <th>clean_posts</th>\n    </tr>\n  </thead>\n  <tbody>\n    <tr>\n      <th>0</th>\n      <td>INFJ</td>\n      <td>'http://www.youtube.com/watch?v=qsXHcwe3krw|||...</td>\n      <td>and intj moments sportscenter not top ten play...</td>\n    </tr>\n    <tr>\n      <th>1</th>\n      <td>ENTP</td>\n      <td>'I'm finding the lack of me in these posts ver...</td>\n      <td>Im finding the lack of me in these posts very ...</td>\n    </tr>\n    <tr>\n      <th>2</th>\n      <td>INTP</td>\n      <td>'Good one  _____   https://www.youtube.com/wat...</td>\n      <td>Good one course to which I say I know thats my...</td>\n    </tr>\n    <tr>\n      <th>3</th>\n      <td>INTJ</td>\n      <td>'Dear INTP,   I enjoyed our conversation the o...</td>\n      <td>Dear INTP I enjoyed our conversation the other...</td>\n    </tr>\n    <tr>\n      <th>4</th>\n      <td>ENTJ</td>\n      <td>'You're fired.|||That's another silly misconce...</td>\n      <td>Youre firedThats another silly misconception T...</td>\n    </tr>\n  </tbody>\n</table>\n</div>"
     },
     "execution_count": 4,
     "metadata": {},
     "output_type": "execute_result"
    }
   ],
   "source": [
    "import pandas as pd\n",
    "data = pd.read_csv('data/02.processed/processed_data.csv')\n",
    "data.head()"
   ],
   "metadata": {
    "collapsed": false,
    "ExecuteTime": {
     "end_time": "2023-10-17T22:18:35.650352100Z",
     "start_time": "2023-10-17T22:18:34.508725600Z"
    }
   },
   "id": "5b58e87757c19fa3"
  },
  {
   "cell_type": "markdown",
   "source": [
    "# Step 2: Sentiment Analysis"
   ],
   "metadata": {
    "collapsed": false
   },
   "id": "cd5d1b2a8d58662b"
  },
  {
   "cell_type": "code",
   "execution_count": 5,
   "outputs": [],
   "source": [
    "from textblob import TextBlob\n",
    "\n",
    "# Function to get sentiment polarity of a text\n",
    "def get_sentiment(text):\n",
    "    analysis = TextBlob(text)\n",
    "    return analysis.sentiment.polarity\n",
    "\n",
    "# Apply sentiment analysis and create a new column 'sentiment'\n",
    "data['sentiment'] = data['clean_posts'].apply(get_sentiment)"
   ],
   "metadata": {
    "collapsed": false,
    "ExecuteTime": {
     "end_time": "2023-10-17T22:19:24.980955100Z",
     "start_time": "2023-10-17T22:18:49.192612900Z"
    }
   },
   "id": "e597a16e8f2a6914"
  },
  {
   "cell_type": "markdown",
   "source": [
    "# Step 3: Saving the analysed data"
   ],
   "metadata": {
    "collapsed": false
   },
   "id": "5a15d65cb0dec1fb"
  },
  {
   "cell_type": "code",
   "execution_count": 6,
   "outputs": [],
   "source": [
    "data.to_csv('data/03.sentiment-analysed/analysed_data.csv', index=False)"
   ],
   "metadata": {
    "collapsed": false,
    "ExecuteTime": {
     "end_time": "2023-10-17T22:19:30.779752800Z",
     "start_time": "2023-10-17T22:19:28.719053500Z"
    }
   },
   "id": "907a165b4634e42"
  },
  {
   "cell_type": "code",
   "execution_count": null,
   "outputs": [],
   "source": [],
   "metadata": {
    "collapsed": false
   },
   "id": "cc08b4cb4e43b973"
  }
 ],
 "metadata": {
  "kernelspec": {
   "display_name": "Python 3",
   "language": "python",
   "name": "python3"
  },
  "language_info": {
   "codemirror_mode": {
    "name": "ipython",
    "version": 2
   },
   "file_extension": ".py",
   "mimetype": "text/x-python",
   "name": "python",
   "nbconvert_exporter": "python",
   "pygments_lexer": "ipython2",
   "version": "2.7.6"
  }
 },
 "nbformat": 4,
 "nbformat_minor": 5
}
