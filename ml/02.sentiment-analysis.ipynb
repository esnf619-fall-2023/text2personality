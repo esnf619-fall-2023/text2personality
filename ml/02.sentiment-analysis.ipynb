{
 "cells": [
  {
   "cell_type": "markdown",
   "source": [
    "# 1. Load the processed data    "
   ],
   "metadata": {
    "collapsed": false
   },
   "id": "7df53399d72b245c"
  },
  {
   "cell_type": "code",
   "execution_count": 1,
   "outputs": [
    {
     "data": {
      "text/plain": "   type                                               post\n0  INFJ                                   http vqsxhcwekrw\n1  INFJ         http mediatumblrcomtumblrlfouypmaqarooojpg\n2  INFJ  enfp intj moment http vizlegxm sportscent top ...\n3  INFJ                              lifechang experi life\n4  INFJ        http vvxzeywwrdw http vuejamdp repeat today",
      "text/html": "<div>\n<style scoped>\n    .dataframe tbody tr th:only-of-type {\n        vertical-align: middle;\n    }\n\n    .dataframe tbody tr th {\n        vertical-align: top;\n    }\n\n    .dataframe thead th {\n        text-align: right;\n    }\n</style>\n<table border=\"1\" class=\"dataframe\">\n  <thead>\n    <tr style=\"text-align: right;\">\n      <th></th>\n      <th>type</th>\n      <th>post</th>\n    </tr>\n  </thead>\n  <tbody>\n    <tr>\n      <th>0</th>\n      <td>INFJ</td>\n      <td>http vqsxhcwekrw</td>\n    </tr>\n    <tr>\n      <th>1</th>\n      <td>INFJ</td>\n      <td>http mediatumblrcomtumblrlfouypmaqarooojpg</td>\n    </tr>\n    <tr>\n      <th>2</th>\n      <td>INFJ</td>\n      <td>enfp intj moment http vizlegxm sportscent top ...</td>\n    </tr>\n    <tr>\n      <th>3</th>\n      <td>INFJ</td>\n      <td>lifechang experi life</td>\n    </tr>\n    <tr>\n      <th>4</th>\n      <td>INFJ</td>\n      <td>http vvxzeywwrdw http vuejamdp repeat today</td>\n    </tr>\n  </tbody>\n</table>\n</div>"
     },
     "execution_count": 1,
     "metadata": {},
     "output_type": "execute_result"
    }
   ],
   "source": [
    "import pandas as pd\n",
    "data = pd.read_csv('data/02.processed/processed_data.csv')\n",
    "data.head()"
   ],
   "metadata": {
    "collapsed": false,
    "ExecuteTime": {
     "end_time": "2023-10-17T23:47:59.986809500Z",
     "start_time": "2023-10-17T23:47:59.165271800Z"
    }
   },
   "id": "5b58e87757c19fa3"
  },
  {
   "cell_type": "markdown",
   "source": [
    "# 2. Sentiment Analysis"
   ],
   "metadata": {
    "collapsed": false
   },
   "id": "cd5d1b2a8d58662b"
  },
  {
   "cell_type": "code",
   "execution_count": 2,
   "outputs": [
    {
     "data": {
      "text/plain": "   type                                               post  sentiment\n0  INFJ                                   http vqsxhcwekrw       0.00\n1  INFJ         http mediatumblrcomtumblrlfouypmaqarooojpg       0.00\n2  INFJ  enfp intj moment http vizlegxm sportscent top ...       0.25\n3  INFJ                              lifechang experi life       0.00\n4  INFJ        http vvxzeywwrdw http vuejamdp repeat today       0.00",
      "text/html": "<div>\n<style scoped>\n    .dataframe tbody tr th:only-of-type {\n        vertical-align: middle;\n    }\n\n    .dataframe tbody tr th {\n        vertical-align: top;\n    }\n\n    .dataframe thead th {\n        text-align: right;\n    }\n</style>\n<table border=\"1\" class=\"dataframe\">\n  <thead>\n    <tr style=\"text-align: right;\">\n      <th></th>\n      <th>type</th>\n      <th>post</th>\n      <th>sentiment</th>\n    </tr>\n  </thead>\n  <tbody>\n    <tr>\n      <th>0</th>\n      <td>INFJ</td>\n      <td>http vqsxhcwekrw</td>\n      <td>0.00</td>\n    </tr>\n    <tr>\n      <th>1</th>\n      <td>INFJ</td>\n      <td>http mediatumblrcomtumblrlfouypmaqarooojpg</td>\n      <td>0.00</td>\n    </tr>\n    <tr>\n      <th>2</th>\n      <td>INFJ</td>\n      <td>enfp intj moment http vizlegxm sportscent top ...</td>\n      <td>0.25</td>\n    </tr>\n    <tr>\n      <th>3</th>\n      <td>INFJ</td>\n      <td>lifechang experi life</td>\n      <td>0.00</td>\n    </tr>\n    <tr>\n      <th>4</th>\n      <td>INFJ</td>\n      <td>http vvxzeywwrdw http vuejamdp repeat today</td>\n      <td>0.00</td>\n    </tr>\n  </tbody>\n</table>\n</div>"
     },
     "execution_count": 2,
     "metadata": {},
     "output_type": "execute_result"
    }
   ],
   "source": [
    "from textblob import TextBlob\n",
    "\n",
    "# Function to get sentiment polarity of a text\n",
    "def get_sentiment(text):\n",
    "    analysis = TextBlob(text)\n",
    "    return analysis.sentiment.polarity\n",
    "\n",
    "# Apply sentiment analysis and create a new column 'sentiment'\n",
    "data['sentiment'] = data['post'].apply(get_sentiment)\n",
    "data.head()"
   ],
   "metadata": {
    "collapsed": false,
    "ExecuteTime": {
     "end_time": "2023-10-17T23:49:17.529566300Z",
     "start_time": "2023-10-17T23:48:34.837684600Z"
    }
   },
   "id": "e597a16e8f2a6914"
  },
  {
   "cell_type": "markdown",
   "source": [
    "# Step 3: Saving the analysed data"
   ],
   "metadata": {
    "collapsed": false
   },
   "id": "5a15d65cb0dec1fb"
  },
  {
   "cell_type": "code",
   "execution_count": 3,
   "outputs": [],
   "source": [
    "data.to_csv('data/03.sentiment-analysed/analysed_data.csv', index=False)"
   ],
   "metadata": {
    "collapsed": false,
    "ExecuteTime": {
     "end_time": "2023-10-17T23:49:37.410101300Z",
     "start_time": "2023-10-17T23:49:36.464685800Z"
    }
   },
   "id": "907a165b4634e42"
  },
  {
   "cell_type": "code",
   "execution_count": null,
   "outputs": [],
   "source": [],
   "metadata": {
    "collapsed": false
   },
   "id": "cc08b4cb4e43b973"
  }
 ],
 "metadata": {
  "kernelspec": {
   "display_name": "Python 3",
   "language": "python",
   "name": "python3"
  },
  "language_info": {
   "codemirror_mode": {
    "name": "ipython",
    "version": 2
   },
   "file_extension": ".py",
   "mimetype": "text/x-python",
   "name": "python",
   "nbconvert_exporter": "python",
   "pygments_lexer": "ipython2",
   "version": "2.7.6"
  }
 },
 "nbformat": 4,
 "nbformat_minor": 5
}
